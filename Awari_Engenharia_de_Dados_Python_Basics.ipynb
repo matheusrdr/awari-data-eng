{
  "nbformat": 4,
  "nbformat_minor": 0,
  "metadata": {
    "colab": {
      "provenance": [],
      "authorship_tag": "ABX9TyO3u61sZjjCuJBfraxkX2i0",
      "include_colab_link": true
    },
    "kernelspec": {
      "name": "python3",
      "display_name": "Python 3"
    },
    "language_info": {
      "name": "python"
    }
  },
  "cells": [
    {
      "cell_type": "markdown",
      "metadata": {
        "id": "view-in-github",
        "colab_type": "text"
      },
      "source": [
        "<a href=\"https://colab.research.google.com/github/matheusrdr/awari-data-eng/blob/main/Awari_Engenharia_de_Dados_Python_Basics.ipynb\" target=\"_parent\"><img src=\"https://colab.research.google.com/assets/colab-badge.svg\" alt=\"Open In Colab\"/></a>"
      ]
    },
    {
      "cell_type": "code",
      "execution_count": null,
      "metadata": {
        "id": "57ETk5m8H_3n"
      },
      "outputs": [],
      "source": [
        "# 1. Criar algoritmo que liste toda a sequência de Fibonacci até o número 100;\n",
        "# 2. Criar algoritmo que faça a fatoração do número 1024. (Exemplo de fatoração: 6! = 6*5*4*3*2*1).\n",
        "# 3. Criar uma lista de frutas (bananas, maçãs, peras, uvas, laranjas) e fazer um algoritmo para consultar se uma fruta existe na lista. Caso não exista, adicionar a nova fruta.\n",
        "# O programa só deve encerrar a brincadeira quando o usuário informar o número 999."
      ]
    },
    {
      "cell_type": "code",
      "source": [
        "# 1.:\n",
        "\n",
        "# Inicializando lista:\n",
        "fib = [0,1]\n",
        "\n",
        "# Criando loop for para somar os números anteriores e realizar o append na lista até o centésimo número:\n",
        "for i in range(2,101):\n",
        "    number = fib[i - 1] + fib[i - 2] ## aqui realiza a soma do 0 + 1 da lista fb.\n",
        "    if number <= 100:\n",
        "        fib.append(number)\n",
        "    else:\n",
        "        break\n",
        "# Exibe lista:\n",
        "print(fib)"
      ],
      "metadata": {
        "colab": {
          "base_uri": "https://localhost:8080/"
        },
        "id": "QrUZI7wAIUKZ",
        "outputId": "1d126c83-027c-4933-a0cd-7a8252a85844"
      },
      "execution_count": 2,
      "outputs": [
        {
          "output_type": "stream",
          "name": "stdout",
          "text": [
            "[0, 1, 1, 2, 3, 5, 8, 13, 21, 34, 55, 89]\n"
          ]
        }
      ]
    },
    {
      "cell_type": "code",
      "source": [
        "# 2.:\n",
        "\n",
        "# Criando lista com sequência para fatorial:\n",
        "lista_fatorial = list(range(1,1025))\n",
        "# Criando variável para armazenar a soma sequencial dos valores da lista:\n",
        "fatorial = 1\n",
        "# Contador auxiliar para for:\n",
        "count = 0\n",
        "\n",
        "# Para cada valor da lista, multiplicar ele pelo próximo item e armazenar a operação na variável fatorial, em seguida incrementar 1 ao contador para ir para seguir a lista.\n",
        "for i in lista_fatorial:\n",
        "  fatorial = fatorial * lista_fatorial[count]\n",
        "  count = count + 1\n",
        "\n",
        "# Exibe fatorial(soma):\n",
        "print(fatorial)"
      ],
      "metadata": {
        "colab": {
          "base_uri": "https://localhost:8080/"
        },
        "id": "eWhgjmpINJTv",
        "outputId": "49135dcf-c8a7-4a3d-88ba-03373c5ee405"
      },
      "execution_count": 24,
      "outputs": [
        {
          "output_type": "stream",
          "name": "stdout",
          "text": [
            "720\n"
          ]
        }
      ]
    },
    {
      "cell_type": "code",
      "source": [
        "# 3.:\n",
        "\n",
        "frutas = ['bananas', 'maçãs', 'peras', 'uvas', 'laranjas']\n",
        "\n",
        "consulta = input(\"Consultar fruta: \")\n",
        "consulta = consulta.lower()\n",
        "\n",
        "if consulta == '999':\n",
        "  print(\"Processo encerrado.\")\n",
        "\n",
        "elif (consulta in frutas):\n",
        "  print(\"A fruta já está na lista.\")\n",
        "\n",
        "else:\n",
        "  frutas.append(consulta)\n",
        "  print(frutas)"
      ],
      "metadata": {
        "colab": {
          "base_uri": "https://localhost:8080/"
        },
        "id": "bWRoER4-WhWB",
        "outputId": "1599a8b0-6e77-4bc0-be7f-4b71358c8b0c"
      },
      "execution_count": 33,
      "outputs": [
        {
          "output_type": "stream",
          "name": "stdout",
          "text": [
            "Consultar fruta: MATHEUS\n",
            "['bananas', 'maçãs', 'peras', 'uvas', 'laranjas', 'matheus']\n"
          ]
        }
      ]
    }
  ]
}